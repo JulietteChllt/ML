{
 "cells": [
  {
   "cell_type": "code",
   "execution_count": 118,
   "id": "1b414051",
   "metadata": {},
   "outputs": [
    {
     "name": "stdout",
     "output_type": "stream",
     "text": [
      "The autoreload extension is already loaded. To reload it, use:\n",
      "  %reload_ext autoreload\n"
     ]
    }
   ],
   "source": [
    "# Useful starting lines\n",
    "%matplotlib inline\n",
    "import numpy as np\n",
    "import matplotlib.pyplot as plt\n",
    "%load_ext autoreload\n",
    "%autoreload 2"
   ]
  },
  {
   "cell_type": "code",
   "execution_count": 128,
   "id": "0b58689c",
   "metadata": {},
   "outputs": [],
   "source": [
    "import implementations as imp\n",
    "%run pre_processing.ipynb"
   ]
  },
  {
   "cell_type": "code",
   "execution_count": 120,
   "id": "30392099",
   "metadata": {},
   "outputs": [],
   "source": [
    "train_path = '../resources/train.csv'\n",
    "train_data = LoadTrainingDataset(train_path)\n",
    "tx , y ,ids = train_data.get_data()"
   ]
  },
  {
   "cell_type": "code",
   "execution_count": 121,
   "id": "32718188",
   "metadata": {},
   "outputs": [],
   "source": [
    "def split_indices(size_dataset,k):\n",
    "    len_gps = int(size_dataset/k)\n",
    "    #shuffle rows for randomness\n",
    "    shuffle = np.random.permutation(size_dataset)\n",
    "    partition = [shuffle[i * len_gps: (i + 1) * len_gps] for i in range(k)]\n",
    "    return len_gps, np.array(partition)"
   ]
  },
  {
   "cell_type": "code",
   "execution_count": 122,
   "id": "d070ee2f",
   "metadata": {},
   "outputs": [],
   "source": [
    "def split_data(y,tx,ids,k,ind_test):\n",
    "    size_dataset = y.shape[0]\n",
    "    len_gps, partition = split_indices(size_dataset,k)\n",
    "    test = partition[ind_test]\n",
    "    a = partition[0:ind_test]\n",
    "    b = partition[ind_test+1:k]\n",
    "    train = np.ndarray.flatten(np.concatenate(a,b))\n",
    "    tx_test = tx[test]\n",
    "    y_test = y[test]\n",
    "    ids_test = ids[test]\n",
    "    tx_train = tx[train]\n",
    "    y_train = y[train]\n",
    "    ids_train = ids[train]\n",
    "    return (tx_test,y_test,ids_test), (tx_train,y_train,ids_train) "
   ]
  },
  {
   "cell_type": "code",
   "execution_count": 167,
   "id": "d40ece90",
   "metadata": {},
   "outputs": [],
   "source": [
    "def cross_validation(y,tx,ids,k):\n",
    "    test_set, train_set = split_data(y,tx,ids,k)\n",
    "    (x_tr1,y_tr1,ids_tr1), (x_tr2,y_tr2,ids_tr2), (x_tr3,y_tr3,ids_tr3),ind1,ind2,ind3,ind4,ind5,ind6 = process_data_cross_val(train_set)\n",
    "    (xtest_1,true_ytest_1,ids_1), (xtest_2,true_ytest_2,ids_2), (xtest_3,true_ytest_3,ids_3) = process_test_cross_val(test_set,ind1,ind2,ind3,ind4,ind5,ind6)\n",
    "    \n",
    "    w1 , l1 = imp.least_squares(y_tr1,x_tr1)\n",
    "    w2 , l2 = imp.least_squares(y_tr2,x_tr2)\n",
    "    w3 , l3 = imp.least_squares(y_tr3,x_tr3)\n",
    "    \n",
    "    y_pred1 = predict_labels(w1, xtest_1)\n",
    "    y_pred2 = predict_labels(w2, xtest_2)\n",
    "    y_pred3 = predict_labels(w3, xtest_3)\n",
    "    \n",
    "    y_trueLoss1 = imp.compute_loss(true_ytest_1, xtext_1, w1)\n",
    "    y_trueLoss2 = imp.compute_loss(true_ytest_2, xtext_2, w2)\n",
    "    y_trueLoss3 = imp.compute_loss(true_ytest_3, xtext_3, w3)\n",
    "\n",
    "    accuracy_1 = np.mean((true_ytest_1==y_pred1))\n",
    "    accuracy_2 = np.mean((true_ytest_2==y_pred2))\n",
    "    accuracy_3 = np.mean((true_ytest_3==y_pred3))\n",
    "    \n",
    "    return accuracy_1,accuracy_2,accuracy_3\n"
   ]
  },
  {
   "cell_type": "code",
   "execution_count": 165,
   "id": "5d50ed6a",
   "metadata": {},
   "outputs": [
    {
     "data": {
      "text/plain": [
       "array([[2, 4],\n",
       "       [0, 6],\n",
       "       [7, 3]])"
      ]
     },
     "execution_count": 165,
     "metadata": {},
     "output_type": "execute_result"
    }
   ],
   "source": [
    "array = np.array([[1], [2], [3], [4], [5], [6], [7], [8], [9], [10]])\n",
    "size, partition=split_indices(array.shape[0],4)\n",
    "a=partition[0:3]\n",
    "b=partition[3:3]\n",
    "c=np.concatenate((a,b))\n",
    "c\n",
    "#test,train = cross_validation(partition,4)"
   ]
  },
  {
   "cell_type": "code",
   "execution_count": 166,
   "id": "f022d010",
   "metadata": {},
   "outputs": [
    {
     "data": {
      "text/plain": [
       "array([[2, 4],\n",
       "       [0, 6],\n",
       "       [7, 3],\n",
       "       [9, 5]])"
      ]
     },
     "execution_count": 166,
     "metadata": {},
     "output_type": "execute_result"
    }
   ],
   "source": [
    "partition"
   ]
  },
  {
   "cell_type": "code",
   "execution_count": 113,
   "id": "183b7b8c",
   "metadata": {},
   "outputs": [],
   "source": [
    "y = np.array([[1], [-2], [3], [4], [-5], [-6], [-7], [8], [-9], [10]])\n",
    "tx = np.array([[10], [20], [30], [40], [50], [60], [70], [80], [90], [100]])\n",
    "ids = np.array([[1], [2], [3], [4], [5], [6], [7], [8], [9], [10]])"
   ]
  },
  {
   "cell_type": "code",
   "execution_count": 114,
   "id": "0dc1ab42",
   "metadata": {},
   "outputs": [],
   "source": [
    "(tx_test,y_test,ids_test), (tx_train,y_train,ids_train) = split_data(y,tx,ids,4)"
   ]
  },
  {
   "cell_type": "code",
   "execution_count": 115,
   "id": "b772baee",
   "metadata": {},
   "outputs": [
    {
     "data": {
      "text/plain": [
       "array([[ 40],\n",
       "       [ 30],\n",
       "       [ 10],\n",
       "       [ 20],\n",
       "       [100],\n",
       "       [ 80]])"
      ]
     },
     "execution_count": 115,
     "metadata": {},
     "output_type": "execute_result"
    }
   ],
   "source": [
    "tx_train"
   ]
  },
  {
   "cell_type": "code",
   "execution_count": 116,
   "id": "f65a91cd",
   "metadata": {},
   "outputs": [
    {
     "data": {
      "text/plain": [
       "array([[ 4],\n",
       "       [ 3],\n",
       "       [ 1],\n",
       "       [-2],\n",
       "       [10],\n",
       "       [ 8]])"
      ]
     },
     "execution_count": 116,
     "metadata": {},
     "output_type": "execute_result"
    }
   ],
   "source": [
    "y_train"
   ]
  },
  {
   "cell_type": "code",
   "execution_count": 131,
   "id": "af9266b3",
   "metadata": {},
   "outputs": [
    {
     "data": {
      "text/plain": [
       "(0.7257627658726997, 0.674416212323835, 0.7208667557932263)"
      ]
     },
     "execution_count": 131,
     "metadata": {},
     "output_type": "execute_result"
    }
   ],
   "source": [
    "cross_validation(y,tx,ids,4)"
   ]
  },
  {
   "cell_type": "code",
   "execution_count": null,
   "id": "40f08ca5",
   "metadata": {},
   "outputs": [],
   "source": []
  }
 ],
 "metadata": {
  "kernelspec": {
   "display_name": "Python 3",
   "language": "python",
   "name": "python3"
  },
  "language_info": {
   "codemirror_mode": {
    "name": "ipython",
    "version": 3
   },
   "file_extension": ".py",
   "mimetype": "text/x-python",
   "name": "python",
   "nbconvert_exporter": "python",
   "pygments_lexer": "ipython3",
   "version": "3.8.8"
  }
 },
 "nbformat": 4,
 "nbformat_minor": 5
}
