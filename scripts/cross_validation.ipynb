{
 "cells": [
  {
   "cell_type": "code",
   "execution_count": 15,
   "id": "1b414051",
   "metadata": {},
   "outputs": [
    {
     "name": "stdout",
     "output_type": "stream",
     "text": [
      "The autoreload extension is already loaded. To reload it, use:\n",
      "  %reload_ext autoreload\n"
     ]
    }
   ],
   "source": [
    "# Useful starting lines\n",
    "%matplotlib inline\n",
    "import numpy as np\n",
    "import matplotlib.pyplot as plt\n",
    "%load_ext autoreload\n",
    "%autoreload 2"
   ]
  },
  {
   "cell_type": "code",
   "execution_count": 16,
   "id": "0b58689c",
   "metadata": {},
   "outputs": [],
   "source": [
    "import implementations as imp\n",
    "%run pre_processing.ipynb"
   ]
  },
  {
   "cell_type": "code",
   "execution_count": 17,
   "id": "30392099",
   "metadata": {},
   "outputs": [],
   "source": [
    "train_path = '../resources/train.csv'"
   ]
  },
  {
   "cell_type": "code",
   "execution_count": 18,
   "id": "32718188",
   "metadata": {},
   "outputs": [],
   "source": [
    "def split_indices(size_dataset,k):\n",
    "    len_gps = int(size_dataset/k)\n",
    "    #shuffle rows for randomness\n",
    "    shuffle = np.random.permutation(size_dataset)\n",
    "    partition = [shuffle[i * len_gps: (i + 1) * len_gps] for i in range(k)]\n",
    "    return len_gps, np.array(partition)"
   ]
  },
  {
   "cell_type": "code",
   "execution_count": 19,
   "id": "d070ee2f",
   "metadata": {},
   "outputs": [],
   "source": [
    "def split_data(y,tx,ids,k,ind_test):\n",
    "    size_dataset = y.shape[0]\n",
    "    len_gps, partition = split_indices(size_dataset,k)\n",
    "    test = partition[ind_test]\n",
    "    a = partition[0:ind_test]\n",
    "    b = partition[ind_test+1:]\n",
    "    train = np.ndarray.flatten(np.concatenate((a,b)))\n",
    "    tx_test = tx[test]\n",
    "    y_test = y[test]\n",
    "    ids_test = ids[test]\n",
    "    tx_train = tx[train]\n",
    "    y_train = y[train]\n",
    "    ids_train = ids[train]\n",
    "    return (tx_test,y_test,ids_test), (tx_train,y_train,ids_train) "
   ]
  },
  {
   "cell_type": "code",
   "execution_count": 23,
   "id": "d40ece90",
   "metadata": {},
   "outputs": [],
   "source": [
    "def train_and_predict(tx,y,ids,k,ind_test,lambda_):\n",
    "    test_set, train_set = split_data(y,tx,ids,k,ind_test)\n",
    "    (x_tr1,y_tr1,ids_tr1), (x_tr2,y_tr2,ids_tr2), (x_tr3,y_tr3,ids_tr3),ind1,ind2,ind3,ind4,ind5,ind6 = process_data_cross_val(train_set)\n",
    "    (xtest_1,ytest_1,ids_1), (xtest_2,ytest_2,ids_2), (xtest_3,ytest_3,ids_3) = process_test_cross_val(test_set,ind1,ind2,ind3,ind4,ind5,ind6)\n",
    "    \n",
    "    #Train the model on the training set LEAST SQUARES\n",
    "    #w1 , l1 = imp.least_squares(y_tr1,x_tr1)\n",
    "    #w2 , l2 = imp.least_squares(y_tr2,x_tr2)\n",
    "    #w3 , l3 = imp.least_squares(y_tr3,x_tr3)\n",
    "    \n",
    "    #Train the model on the training set RIDGE REGRESSION\n",
    "    w1 , l1 = imp.ridge_regression(y_tr1, x_tr1, lambda_)\n",
    "    w2 , l2 = imp.ridge_regression(y_tr2, x_tr2, lambda_)\n",
    "    w3 , l3 = imp.ridge_regression(y_tr3, x_tr3, lambda_)\n",
    "    \n",
    "    #Predict 'y' of the test set using the weight found in the training set\n",
    "    y_pred1 = predict_labels(w1, xtest_1)\n",
    "    y_pred2 = predict_labels(w2, xtest_2)\n",
    "    y_pred3 = predict_labels(w3, xtest_3)\n",
    "    \n",
    "    true_l1 = imp.compute_loss(ytest_1, xtest_1, w1)\n",
    "    true_l2 = imp.compute_loss(ytest_2, xtest_2, w2)\n",
    "    true_l3 = imp.compute_loss(ytest_3, xtest_3, w3)\n",
    "\n",
    "    accuracy_1 = np.mean((ytest_1==y_pred1))\n",
    "    accuracy_2 = np.mean((ytest_2==y_pred2))\n",
    "    accuracy_3 = np.mean((ytest_3==y_pred3))\n",
    "    \n",
    "    #Compute generalized error\n",
    "    gen_err1 = np.abs(l1-true_l1)\n",
    "    gen_err2 = np.abs(l2-true_l2)\n",
    "    gen_err3 = np.abs(l3-true_l3)\n",
    "    \n",
    "    return (accuracy_1,accuracy_2,accuracy_3), (gen_err1,gen_err2,gen_err3), (w1,w2,w3)\n"
   ]
  },
  {
   "cell_type": "code",
   "execution_count": 24,
   "id": "488f3952",
   "metadata": {},
   "outputs": [],
   "source": [
    "def cross_validation(train_path,k, lambda_):\n",
    "    train_data = LoadTrainingDataset(train_path)\n",
    "    tx , y ,ids = train_data.get_data()\n",
    "    accuracy =[]\n",
    "    gen_err = []\n",
    "    weights = []\n",
    "    for i in range (k):\n",
    "        acc,err,w = train_and_predict(tx,y,ids,k,i, lambda_)\n",
    "        accuracy.append(acc)\n",
    "        gen_err.append(err)\n",
    "        weights.append(w)\n",
    "    acc = np.mean(np.mean(accuracy,0))\n",
    "    var = np.mean(np.std(accuracy,0))\n",
    "    return acc,var"
   ]
  },
  {
   "cell_type": "code",
   "execution_count": 25,
   "id": "840c4d5c",
   "metadata": {},
   "outputs": [
    {
     "data": {
      "text/plain": [
       "(0.7071047964367638, 0.002373605824552488)"
      ]
     },
     "execution_count": 25,
     "metadata": {},
     "output_type": "execute_result"
    }
   ],
   "source": [
    "cross_validation(train_path,5,0.0007)"
   ]
  },
  {
   "cell_type": "code",
   "execution_count": 38,
   "id": "c6ce4762",
   "metadata": {},
   "outputs": [],
   "source": [
    "#Test best k parameter for least square\n",
    "def test_best_k_ls():\n",
    "    accuracies = []\n",
    "    variances = []\n",
    "    best_k = -1\n",
    "    best_acc = 0\n",
    "    for k in range (2,11):\n",
    "        bias,var = cross_validation(train_path,k,1)\n",
    "        accuracies.append(bias)\n",
    "        variances.append(var)\n",
    "    for i in range (len(accuracies)):\n",
    "        if (accuracies[i] > best_acc):\n",
    "            best_acc = accuracies[i]\n",
    "            best_k = i+2         \n",
    "    return accuracies, variances, best_acc,best_k\n",
    "    "
   ]
  },
  {
   "cell_type": "code",
   "execution_count": 41,
   "id": "350958f6",
   "metadata": {},
   "outputs": [],
   "source": [
    "#Test best k and lambda parameters for ridge regression (takes a lot of time)\n",
    "def test_best_k_rreg(): \n",
    "    best_k = -1\n",
    "    best_l = 0\n",
    "    best_acc = 0\n",
    "    possible_lambda = np.logspace(-8, 0, 20)\n",
    "    for l in possible_lambda :\n",
    "        accuracies = []\n",
    "        variances = []\n",
    "        for k in range (2,11) :\n",
    "            bias,var = cross_validation(train_path,k,l)\n",
    "            accuracies.append(bias)\n",
    "            variances.append(var)\n",
    "        for i in range (len(accuracies)):\n",
    "            if (accuracies[i] > best_acc):\n",
    "                best_acc = accuracies[i]\n",
    "                best_k = i+2 \n",
    "                best_l = l\n",
    "    return best_acc,best_k, best_l\n",
    "    "
   ]
  },
  {
   "cell_type": "code",
   "execution_count": 42,
   "id": "af9266b3",
   "metadata": {},
   "outputs": [
    {
     "data": {
      "text/plain": [
       "(0.7103933738861331, 7, 1.2742749857031322e-06)"
      ]
     },
     "execution_count": 42,
     "metadata": {},
     "output_type": "execute_result"
    }
   ],
   "source": [
    "test_best_k_rreg()"
   ]
  },
  {
   "cell_type": "code",
   "execution_count": 40,
   "id": "362ccf1d",
   "metadata": {},
   "outputs": [
    {
     "data": {
      "text/plain": [
       "([0.689516710015098,\n",
       "  0.690510281624157,\n",
       "  0.6878286301355706,\n",
       "  0.6898419134872622,\n",
       "  0.689800856259955,\n",
       "  0.6903875276215677,\n",
       "  0.6886618579825022,\n",
       "  0.6903841241260928,\n",
       "  0.6889836667211137],\n",
       " [0.0006092938640544684,\n",
       "  0.0017486179776842288,\n",
       "  0.0020919887847824074,\n",
       "  0.002892445376448173,\n",
       "  0.002793706532225762,\n",
       "  0.0032014108257130604,\n",
       "  0.0024794894795790575,\n",
       "  0.003881105833419689,\n",
       "  0.004074373610819477],\n",
       " 0.690510281624157,\n",
       " 3)"
      ]
     },
     "execution_count": 40,
     "metadata": {},
     "output_type": "execute_result"
    }
   ],
   "source": [
    "test_best_k_ls()"
   ]
  },
  {
   "cell_type": "code",
   "execution_count": null,
   "id": "d2bcfd83",
   "metadata": {},
   "outputs": [],
   "source": []
  }
 ],
 "metadata": {
  "kernelspec": {
   "display_name": "Python 3",
   "language": "python",
   "name": "python3"
  },
  "language_info": {
   "codemirror_mode": {
    "name": "ipython",
    "version": 3
   },
   "file_extension": ".py",
   "mimetype": "text/x-python",
   "name": "python",
   "nbconvert_exporter": "python",
   "pygments_lexer": "ipython3",
   "version": "3.8.8"
  }
 },
 "nbformat": 4,
 "nbformat_minor": 5
}
